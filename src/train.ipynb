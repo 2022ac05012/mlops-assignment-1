{
 "cells": [
  {
   "cell_type": "code",
   "execution_count": 16,
   "metadata": {},
   "outputs": [
    {
     "name": "stderr",
     "output_type": "stream",
     "text": [
      "/var/folders/cf/4cm9g_vj3jv59b95f6ctvv800000gq/T/ipykernel_69369/44313872.py:10: FutureWarning: A value is trying to be set on a copy of a DataFrame or Series through chained assignment using an inplace method.\n",
      "The behavior will change in pandas 3.0. This inplace method will never work because the intermediate object on which we are setting values always behaves as a copy.\n",
      "\n",
      "For example, when doing 'df[col].method(value, inplace=True)', try using 'df.method({col: value}, inplace=True)' or df[col] = df[col].method(value) instead, to perform the operation inplace on the original object.\n",
      "\n",
      "\n",
      "  data[0].replace(['vhigh', 'high','med','low'], [3, 2, 1, 0], inplace=True)\n",
      "/var/folders/cf/4cm9g_vj3jv59b95f6ctvv800000gq/T/ipykernel_69369/44313872.py:10: FutureWarning: Downcasting behavior in `replace` is deprecated and will be removed in a future version. To retain the old behavior, explicitly call `result.infer_objects(copy=False)`. To opt-in to the future behavior, set `pd.set_option('future.no_silent_downcasting', True)`\n",
      "  data[0].replace(['vhigh', 'high','med','low'], [3, 2, 1, 0], inplace=True)\n",
      "/var/folders/cf/4cm9g_vj3jv59b95f6ctvv800000gq/T/ipykernel_69369/44313872.py:11: FutureWarning: A value is trying to be set on a copy of a DataFrame or Series through chained assignment using an inplace method.\n",
      "The behavior will change in pandas 3.0. This inplace method will never work because the intermediate object on which we are setting values always behaves as a copy.\n",
      "\n",
      "For example, when doing 'df[col].method(value, inplace=True)', try using 'df.method({col: value}, inplace=True)' or df[col] = df[col].method(value) instead, to perform the operation inplace on the original object.\n",
      "\n",
      "\n",
      "  data[1].replace(['vhigh', 'high','med','low'], [3, 2, 1, 0], inplace=True)\n",
      "/var/folders/cf/4cm9g_vj3jv59b95f6ctvv800000gq/T/ipykernel_69369/44313872.py:11: FutureWarning: Downcasting behavior in `replace` is deprecated and will be removed in a future version. To retain the old behavior, explicitly call `result.infer_objects(copy=False)`. To opt-in to the future behavior, set `pd.set_option('future.no_silent_downcasting', True)`\n",
      "  data[1].replace(['vhigh', 'high','med','low'], [3, 2, 1, 0], inplace=True)\n",
      "/var/folders/cf/4cm9g_vj3jv59b95f6ctvv800000gq/T/ipykernel_69369/44313872.py:12: FutureWarning: A value is trying to be set on a copy of a DataFrame or Series through chained assignment using an inplace method.\n",
      "The behavior will change in pandas 3.0. This inplace method will never work because the intermediate object on which we are setting values always behaves as a copy.\n",
      "\n",
      "For example, when doing 'df[col].method(value, inplace=True)', try using 'df.method({col: value}, inplace=True)' or df[col] = df[col].method(value) instead, to perform the operation inplace on the original object.\n",
      "\n",
      "\n",
      "  data[2].replace(['5more'], [5], inplace=True)\n",
      "/var/folders/cf/4cm9g_vj3jv59b95f6ctvv800000gq/T/ipykernel_69369/44313872.py:13: FutureWarning: A value is trying to be set on a copy of a DataFrame or Series through chained assignment using an inplace method.\n",
      "The behavior will change in pandas 3.0. This inplace method will never work because the intermediate object on which we are setting values always behaves as a copy.\n",
      "\n",
      "For example, when doing 'df[col].method(value, inplace=True)', try using 'df.method({col: value}, inplace=True)' or df[col] = df[col].method(value) instead, to perform the operation inplace on the original object.\n",
      "\n",
      "\n",
      "  data[3].replace(['more'], [1], inplace=True)\n",
      "/var/folders/cf/4cm9g_vj3jv59b95f6ctvv800000gq/T/ipykernel_69369/44313872.py:14: FutureWarning: A value is trying to be set on a copy of a DataFrame or Series through chained assignment using an inplace method.\n",
      "The behavior will change in pandas 3.0. This inplace method will never work because the intermediate object on which we are setting values always behaves as a copy.\n",
      "\n",
      "For example, when doing 'df[col].method(value, inplace=True)', try using 'df.method({col: value}, inplace=True)' or df[col] = df[col].method(value) instead, to perform the operation inplace on the original object.\n",
      "\n",
      "\n",
      "  data[4].replace(['big','med','small'], [2,1,0], inplace=True)\n",
      "/var/folders/cf/4cm9g_vj3jv59b95f6ctvv800000gq/T/ipykernel_69369/44313872.py:14: FutureWarning: Downcasting behavior in `replace` is deprecated and will be removed in a future version. To retain the old behavior, explicitly call `result.infer_objects(copy=False)`. To opt-in to the future behavior, set `pd.set_option('future.no_silent_downcasting', True)`\n",
      "  data[4].replace(['big','med','small'], [2,1,0], inplace=True)\n",
      "/var/folders/cf/4cm9g_vj3jv59b95f6ctvv800000gq/T/ipykernel_69369/44313872.py:15: FutureWarning: A value is trying to be set on a copy of a DataFrame or Series through chained assignment using an inplace method.\n",
      "The behavior will change in pandas 3.0. This inplace method will never work because the intermediate object on which we are setting values always behaves as a copy.\n",
      "\n",
      "For example, when doing 'df[col].method(value, inplace=True)', try using 'df.method({col: value}, inplace=True)' or df[col] = df[col].method(value) instead, to perform the operation inplace on the original object.\n",
      "\n",
      "\n",
      "  data[5].replace(['high','med','low'], [2,1,0], inplace=True)\n",
      "/var/folders/cf/4cm9g_vj3jv59b95f6ctvv800000gq/T/ipykernel_69369/44313872.py:15: FutureWarning: Downcasting behavior in `replace` is deprecated and will be removed in a future version. To retain the old behavior, explicitly call `result.infer_objects(copy=False)`. To opt-in to the future behavior, set `pd.set_option('future.no_silent_downcasting', True)`\n",
      "  data[5].replace(['high','med','low'], [2,1,0], inplace=True)\n",
      "/var/folders/cf/4cm9g_vj3jv59b95f6ctvv800000gq/T/ipykernel_69369/44313872.py:16: FutureWarning: A value is trying to be set on a copy of a DataFrame or Series through chained assignment using an inplace method.\n",
      "The behavior will change in pandas 3.0. This inplace method will never work because the intermediate object on which we are setting values always behaves as a copy.\n",
      "\n",
      "For example, when doing 'df[col].method(value, inplace=True)', try using 'df.method({col: value}, inplace=True)' or df[col] = df[col].method(value) instead, to perform the operation inplace on the original object.\n",
      "\n",
      "\n",
      "  data[6].replace(['vgood','good','acc','unacc'], [3,2,1,0], inplace=True)\n",
      "/var/folders/cf/4cm9g_vj3jv59b95f6ctvv800000gq/T/ipykernel_69369/44313872.py:16: FutureWarning: Downcasting behavior in `replace` is deprecated and will be removed in a future version. To retain the old behavior, explicitly call `result.infer_objects(copy=False)`. To opt-in to the future behavior, set `pd.set_option('future.no_silent_downcasting', True)`\n",
      "  data[6].replace(['vgood','good','acc','unacc'], [3,2,1,0], inplace=True)\n"
     ]
    }
   ],
   "source": [
    "import pandas as pd\n",
    "\n",
    "from sklearn.ensemble import RandomForestClassifier\n",
    "from sklearn.model_selection import train_test_split\n",
    "from sklearn.metrics import accuracy_score\n",
    "import joblib\n",
    "\n",
    "# Load dataset\n",
    "data = pd.read_csv('../data/car_evaluation.csv', header=None);\n",
    "data[0].replace(['vhigh', 'high','med','low'], [3, 2, 1, 0], inplace=True)\n",
    "data[1].replace(['vhigh', 'high','med','low'], [3, 2, 1, 0], inplace=True)\n",
    "data[2].replace(['5more'], [5], inplace=True)\n",
    "data[3].replace(['more'], [1], inplace=True)\n",
    "data[4].replace(['big','med','small'], [2,1,0], inplace=True)\n",
    "data[5].replace(['high','med','low'], [2,1,0], inplace=True)\n",
    "data[6].replace(['vgood','good','acc','unacc'], [3,2,1,0], inplace=True)\n",
    "data.to_csv('../data/car_evaluation_processed.csv', encoding='utf-8', index=False)"
   ]
  }
 ],
 "metadata": {
  "kernelspec": {
   "display_name": "mlops",
   "language": "python",
   "name": "python3"
  },
  "language_info": {
   "codemirror_mode": {
    "name": "ipython",
    "version": 3
   },
   "file_extension": ".py",
   "mimetype": "text/x-python",
   "name": "python",
   "nbconvert_exporter": "python",
   "pygments_lexer": "ipython3",
   "version": "3.9.21"
  }
 },
 "nbformat": 4,
 "nbformat_minor": 2
}
